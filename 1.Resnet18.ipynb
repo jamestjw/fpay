{
 "cells": [
  {
   "cell_type": "markdown",
   "metadata": {
    "colab_type": "text",
    "id": "g2QFv8sVFrDr"
   },
   "source": [
    "## Download Data"
   ]
  },
  {
   "cell_type": "code",
   "execution_count": 1,
   "metadata": {
    "colab": {},
    "colab_type": "code",
    "id": "fc3YH8OGdkYV"
   },
   "outputs": [],
   "source": [
    "# !wget http://vis-www.cs.umass.edu/lfw/lfw.tgz\n",
    "# !tar xvzf lfw.tgz "
   ]
  },
  {
   "cell_type": "code",
   "execution_count": 1,
   "metadata": {
    "colab": {
     "base_uri": "https://localhost:8080/",
     "height": 34
    },
    "colab_type": "code",
    "id": "ckrlXKI6dzrG",
    "outputId": "9636762c-844e-415e-936d-18a2a8668ad0"
   },
   "outputs": [],
   "source": [
    "from pathlib import Path\n",
    "def ls(self):\n",
    "    return list(self.iterdir())\n",
    "Path.ls = ls\n",
    "\n",
    "import itertools\n",
    "from random import shuffle\n",
    "\n",
    "\n",
    "import os\n",
    "import time\n",
    "import matplotlib.pyplot as plt\n",
    "import numpy as np\n",
    "from fastprogress import progress_bar\n",
    "from copy import deepcopy\n",
    "from fastai.vision import *"
   ]
  },
  {
   "cell_type": "code",
   "execution_count": 2,
   "metadata": {
    "colab": {},
    "colab_type": "code",
    "id": "TfL4xKtReWHE"
   },
   "outputs": [],
   "source": [
    "folders = Path('lfw')\n",
    "all = set()\n",
    "no_dups = set()\n",
    "dups = set()\n",
    "for folder in folders.ls():\n",
    "    name = folder.name\n",
    "    if len(folder.ls()) == 1:\n",
    "        no_dups.add(name)\n",
    "    else: dups.add(name)\n",
    "    all.add(name)"
   ]
  },
  {
   "cell_type": "code",
   "execution_count": 4,
   "metadata": {
    "colab": {},
    "colab_type": "code",
    "id": "wkvhv_aWiWd6"
   },
   "outputs": [],
   "source": [
    "class ItemTuple(ItemBase):\n",
    "    \n",
    "    def __init__(self, items):\n",
    "        # Warn if the items gets larger than intended\n",
    "        self.size = len(items) \n",
    "        self.items = items\n",
    "        self.data = torch.cat([x.data.unsqueeze(0) for x in items])\n",
    "    \n",
    "    def show(self):\n",
    "        [x.show() for x in self.items]\n",
    "        \n",
    "    def apply_tfms(self, tfms, **kwargs):\n",
    "        self.items = [item.apply_tfms(tfms,**kwargs) for item in self.items]\n",
    "        self.data = torch.cat([x.data.unsqueeze(0) for x in self.items])\n",
    "        return self\n",
    "    \n",
    "    def __repr__(self):\n",
    "        return ''.join([str(x) for x in self.items]) + '\\n'\n",
    "    \n",
    "    def __len__(self):\n",
    "        return self.size"
   ]
  },
  {
   "cell_type": "code",
   "execution_count": 5,
   "metadata": {},
   "outputs": [],
   "source": [
    "class SiameseList(ItemList):\n",
    "    \n",
    "    def __init__(self, *args, open_fn=lambda x:x, **kwargs):\n",
    "        super().__init__(*args, **kwargs)\n",
    "        self.open = open_fn\n",
    "        \n",
    "    def get(self, i):\n",
    "        item = super().get(i)\n",
    "        if isinstance(item, ItemTuple):\n",
    "            return item\n",
    "        return ItemTuple([self.open(x) for x in item])"
   ]
  },
  {
   "cell_type": "code",
   "execution_count": 22,
   "metadata": {},
   "outputs": [],
   "source": [
    "from copy import deepcopy\n",
    "\n",
    "class SiameseDataset(LabelList):\n",
    "    \n",
    "    def show_similar(self):\n",
    "        pass\n",
    "        \n",
    "    def show_different(self):\n",
    "        pass\n",
    "    \n",
    "    @classmethod\n",
    "    def from_label_list(cls, ll:LabelList, hidden_classes=None, train_num=20, valid_num=10, use_all=False, vll_=None):\n",
    "        # Use random chunk of the classes for validation if none specified\n",
    "        if hidden_classes is None: hidden_classes = list(range(ll.c))[-int(ll.c*0.2)]\n",
    "        \n",
    "        if hasattr(hidden_classes[0], 'data'):\n",
    "            hidden_classes = [x.data for x in hidden_classes]\n",
    "\n",
    "        if len(hidden_classes) < 2:\n",
    "            raise Exception(\"Must be atleast 2 classes\")\n",
    "        \n",
    "        train_cls = [i for i in range(ll.c - 1) if i not in hidden_classes]\n",
    "        \n",
    "        def mask(i,c): \n",
    "            return i.y.items == c\n",
    "\n",
    "        # Copy to get transforms\n",
    "        tll = deepcopy(ll)\n",
    "        # Generate Items and Labels\n",
    "        tll.x.items = np.concatenate([ll.x.items[mask(ll,c)] for c in train_cls])\n",
    "        tll.y.items = np.concatenate([ll.y.items[mask(ll,c)] for c in train_cls])\n",
    "        tll = cls._from_label_list(tll, train_num, train_num//2, use_all)\n",
    "\n",
    "        if vll_:\n",
    "            vll = vll_\n",
    "\n",
    "        else:\n",
    "            vll = deepcopy(ll)        \n",
    "            vll.x.items = np.concatenate([ll.x.items[mask(ll,c)] for c in hidden_classes])\n",
    "            vll.y.items = np.concatenate([ll.y.items[mask(ll,c)] for c in hidden_classes])       \n",
    "            vll = cls._from_label_list(vll, valid_num, valid_num//2, use_all)     \n",
    "            \n",
    "        return LabelLists(ll.x.path, tll, vll)\n",
    "    \n",
    "    @classmethod    \n",
    "    def _from_label_list(cls, ll:LabelList, num_same=20, num_diff=30, use_all=False, sample_hard=False):\n",
    "        x = ll.x\n",
    "        y = ll.y\n",
    "        class2paths = {}      \n",
    "        for x_, y_ in zip(x.items,y.items):\n",
    "            if y_ not in class2paths.keys():\n",
    "                class2paths[y_] = [x_]\n",
    "            else:\n",
    "                class2paths[y_].append(x_)\n",
    "        # Seperate into lists of individual classes\n",
    "        # Some of these may be empty because of the spit\n",
    "        seperated = [x.items[y.items==c] for c in range(ll.c) if len(x.items[y.items==c]) > 0]\n",
    "        count = Counter(ll.y.items)\n",
    "              \n",
    "        #possible sames\n",
    "        same_idxs = [k for k,v in count.items() if v>1]\n",
    "        sampled_same = np.random.choice(same_idxs, num_same)           \n",
    "        same_pairs = np.empty((0,2))\n",
    "        for same in sampled_same:\n",
    "            r = np.random.choice(class2paths[same],size=2,replace=False)[None]\n",
    "            same_pairs = np.concatenate([same_pairs, r])\n",
    "        \n",
    "        # Create pairs of different items\n",
    "        all_idx = list(count.keys())\n",
    "        sampled_diff = np.random.choice(all_idx,size=num_diff*2,replace=True)\n",
    "        diff_pairs = np.empty((0,2))\n",
    "       \n",
    "        for name1,name2 in zip(sampled_diff[:num_diff], sampled_diff[num_diff:]):\n",
    "            r1 = np.random.choice(class2paths[name1],size=1,replace=False)[None]\n",
    "            r2 = np.random.choice(class2paths[name2],size=1,replace=False)[None]\n",
    "            diff_pairs = np.concatenate([diff_pairs, np.hstack([r1,r2])])\n",
    "        \n",
    "        # Combine together \n",
    "        al = np.concatenate([same_pairs, diff_pairs])\n",
    "        # Generate labels\n",
    "        labels = np.concatenate([np.ones(len(same_pairs), dtype=np.int8), np.zeros(len(diff_pairs), dtype=np.int8)])\n",
    "        \n",
    "        inst = cls(SiameseList(al, open_fn=ll.x.open), CategoryList(labels, ['different', 'similar']))\n",
    "        return inst"
   ]
  },
  {
   "cell_type": "code",
   "execution_count": 7,
   "metadata": {},
   "outputs": [],
   "source": [
    "imgs = ImageList.from_folder('lfw').split_none().label_from_func(lambda x: x.parent.name)"
   ]
  },
  {
   "cell_type": "code",
   "execution_count": 8,
   "metadata": {},
   "outputs": [],
   "source": [
    "count = Counter(imgs.train.y.items)\n",
    "np.random.seed(42)\n",
    "val_idx = [k for k,v in count.items() if v>4 and np.random.random() < 0.8]"
   ]
  },
  {
   "cell_type": "code",
   "execution_count": 9,
   "metadata": {},
   "outputs": [],
   "source": [
    "val_classes = np.array(imgs.classes)[val_idx]"
   ]
  },
  {
   "cell_type": "code",
   "execution_count": 10,
   "metadata": {},
   "outputs": [],
   "source": [
    "sd = SiameseDataset.from_label_list(imgs.train, val_idx, 3000, 1000)\n",
    "data = sd.transform(get_transforms(), size=224).databunch(bs=30)"
   ]
  },
  {
   "cell_type": "code",
   "execution_count": 11,
   "metadata": {},
   "outputs": [],
   "source": [
    "class SiameseNetwork(nn.Module):\n",
    "    \n",
    "    def __init__(self, encoder=models.resnet18, s_out=512):\n",
    "        # TODO warn is s_out is to large\n",
    "        super().__init__()\n",
    "        self.body = create_body(encoder, cut=-2)\n",
    "        self.head = create_head(1024, 1, [s_out])[:5]\n",
    "        \n",
    "        #normalize images\n",
    "        self.mean = tensor(imagenet_stats[0])[None,None,:,None,None].cuda()\n",
    "        self.std = tensor(imagenet_stats[1])[None,None,:,None,None].cuda()\n",
    "        \n",
    "        self.pred = nn.Linear(s_out,1)\n",
    "        \n",
    "    def forward(self, items):\n",
    "        bs = len(items)\n",
    "        # Get the batch size in the correct place\n",
    "        items = (items - self.mean)/self.std\n",
    "        ins = items.transpose(1, 0)\n",
    "        outs = [self.body(x)  for x in ins]\n",
    "        outs = [self.head(x) for x in outs]\n",
    "        outs = torch.stack(outs)\n",
    "        dist = torch.pow(outs[0]-outs[1], 2)\n",
    "        preds = self.pred(dist)\n",
    "        return dist, preds"
   ]
  },
  {
   "cell_type": "markdown",
   "metadata": {},
   "source": [
    "# Loss Function"
   ]
  },
  {
   "cell_type": "code",
   "execution_count": 12,
   "metadata": {},
   "outputs": [],
   "source": [
    "MARGIN = 4"
   ]
  },
  {
   "cell_type": "code",
   "execution_count": 13,
   "metadata": {},
   "outputs": [],
   "source": [
    "def hinge_loss(x, y, m=MARGIN):\n",
    "    diff = x\n",
    "    diff = diff.mean(-1)\n",
    "    diff[y==0] = m**2 - diff[y==0]\n",
    "    diff[diff < 0] = 0\n",
    "    return diff\n",
    "\n",
    "def loss(x,y):\n",
    "    dist, preds = x\n",
    "    l = hinge_loss(dist,y).mean()\n",
    "    l2 = nn.BCEWithLogitsLoss()(preds.squeeze(),y.float())\n",
    "    return l + 10*l2\n",
    "\n",
    "def hinge_acc(x,y,l=MARGIN/2):\n",
    "    return (hinge_loss(x[0],y) < l**2).float().mean()\n",
    "\n",
    "def ce_acc(x,y):\n",
    "    return accuracy_thresh(x[1],y)"
   ]
  },
  {
   "cell_type": "code",
   "execution_count": 14,
   "metadata": {},
   "outputs": [],
   "source": [
    "def siamese_learner(data: DataBunch, encoder:nn.Module=models.resnet18, s_out=512, loss_func=None, loss_size=None, m=3):\n",
    "    learner = Learner(data, SiameseNetwork(encoder, s_out), loss_func=loss, metrics=[hinge_acc,ce_acc])\n",
    "    learner.encode = lambda x: x # TODO create a simple way to get a vector of a piece of data\n",
    "    return learner    \n",
    "\n",
    "# Here we decide the length of the output vector. \n",
    "# This will be dependent on your encoder arch (bigger means bigger s_out)\n",
    "learn = siamese_learner(data, encoder=models.resnet18, s_out=256)"
   ]
  },
  {
   "cell_type": "code",
   "execution_count": 15,
   "metadata": {},
   "outputs": [
    {
     "data": {
      "text/html": [],
      "text/plain": [
       "<IPython.core.display.HTML object>"
      ]
     },
     "metadata": {},
     "output_type": "display_data"
    },
    {
     "name": "stdout",
     "output_type": "stream",
     "text": [
      "LR Finder is complete, type {learner_name}.recorder.plot() to see the graph.\n"
     ]
    },
    {
     "data": {
      "image/png": "[encoded data removed]",
      "text/plain": [
       "<Figure size 432x288 with 1 Axes>"
      ]
     },
     "metadata": {
      "needs_background": "light"
     },
     "output_type": "display_data"
    }
   ],
   "source": [
    "learn.lr_find()\n",
    "learn.recorder.plot()"
   ]
  },
  {
   "cell_type": "code",
   "execution_count": 16,
   "metadata": {
    "scrolled": true
   },
   "outputs": [
    {
     "data": {
      "text/html": [
       "\n",
       "    <div>\n",
       "        <style>\n",
       "            /* Turns off some styling */\n",
       "            progress {\n",
       "                /* gets rid of default border in Firefox and Opera. */\n",
       "                border: none;\n",
       "                /* Needs to be in here for Safari polyfill so background images work as expected. */\n",
       "                background-size: auto;\n",
       "            }\n",
       "            .progress-bar-interrupted, .progress-bar-interrupted::-webkit-progress-bar {\n",
       "                background: #F44336;\n",
       "            }\n",
       "        </style>\n",
       "      <progress value='11' class='' max='30', style='width:300px; height:20px; vertical-align: middle;'></progress>\n",
       "      36.67% [11/30 07:40<13:14]\n",
       "    </div>\n",
       "    \n",
       "<table border=\"1\" class=\"dataframe\">\n",
       "  <thead>\n",
       "    <tr style=\"text-align: left;\">\n",
       "      <th>epoch</th>\n",
       "      <th>train_loss</th>\n",
       "      <th>valid_loss</th>\n",
       "      <th>hinge_acc</th>\n",
       "      <th>ce_acc</th>\n",
       "      <th>time</th>\n",
       "    </tr>\n",
       "  </thead>\n",
       "  <tbody>\n",
       "    <tr>\n",
       "      <td>0</td>\n",
       "      <td>12.103128</td>\n",
       "      <td>12.130288</td>\n",
       "      <td>0.666667</td>\n",
       "      <td>0.641556</td>\n",
       "      <td>00:41</td>\n",
       "    </tr>\n",
       "    <tr>\n",
       "      <td>1</td>\n",
       "      <td>12.030656</td>\n",
       "      <td>11.990338</td>\n",
       "      <td>0.666667</td>\n",
       "      <td>0.668889</td>\n",
       "      <td>00:41</td>\n",
       "    </tr>\n",
       "    <tr>\n",
       "      <td>2</td>\n",
       "      <td>11.907465</td>\n",
       "      <td>11.706171</td>\n",
       "      <td>0.666667</td>\n",
       "      <td>0.720445</td>\n",
       "      <td>00:41</td>\n",
       "    </tr>\n",
       "    <tr>\n",
       "      <td>3</td>\n",
       "      <td>10.974286</td>\n",
       "      <td>10.907564</td>\n",
       "      <td>0.666667</td>\n",
       "      <td>0.767111</td>\n",
       "      <td>00:41</td>\n",
       "    </tr>\n",
       "    <tr>\n",
       "      <td>4</td>\n",
       "      <td>10.127534</td>\n",
       "      <td>10.284786</td>\n",
       "      <td>0.666667</td>\n",
       "      <td>0.800000</td>\n",
       "      <td>00:41</td>\n",
       "    </tr>\n",
       "    <tr>\n",
       "      <td>5</td>\n",
       "      <td>8.815431</td>\n",
       "      <td>10.008642</td>\n",
       "      <td>0.666667</td>\n",
       "      <td>0.813333</td>\n",
       "      <td>00:42</td>\n",
       "    </tr>\n",
       "    <tr>\n",
       "      <td>6</td>\n",
       "      <td>7.953764</td>\n",
       "      <td>9.520483</td>\n",
       "      <td>0.680000</td>\n",
       "      <td>0.805111</td>\n",
       "      <td>00:42</td>\n",
       "    </tr>\n",
       "    <tr>\n",
       "      <td>7</td>\n",
       "      <td>6.501024</td>\n",
       "      <td>8.762704</td>\n",
       "      <td>0.744667</td>\n",
       "      <td>0.791111</td>\n",
       "      <td>00:41</td>\n",
       "    </tr>\n",
       "    <tr>\n",
       "      <td>8</td>\n",
       "      <td>5.475644</td>\n",
       "      <td>8.285550</td>\n",
       "      <td>0.740667</td>\n",
       "      <td>0.820445</td>\n",
       "      <td>00:42</td>\n",
       "    </tr>\n",
       "    <tr>\n",
       "      <td>9</td>\n",
       "      <td>4.889827</td>\n",
       "      <td>8.301057</td>\n",
       "      <td>0.740000</td>\n",
       "      <td>0.820667</td>\n",
       "      <td>00:42</td>\n",
       "    </tr>\n",
       "    <tr>\n",
       "      <td>10</td>\n",
       "      <td>4.530534</td>\n",
       "      <td>8.846640</td>\n",
       "      <td>0.730000</td>\n",
       "      <td>0.810444</td>\n",
       "      <td>00:41</td>\n",
       "    </tr>\n",
       "  </tbody>\n",
       "</table><p>\n",
       "\n",
       "    <div>\n",
       "        <style>\n",
       "            /* Turns off some styling */\n",
       "            progress {\n",
       "                /* gets rid of default border in Firefox and Opera. */\n",
       "                border: none;\n",
       "                /* Needs to be in here for Safari polyfill so background images work as expected. */\n",
       "                background-size: auto;\n",
       "            }\n",
       "            .progress-bar-interrupted, .progress-bar-interrupted::-webkit-progress-bar {\n",
       "                background: #F44336;\n",
       "            }\n",
       "        </style>\n",
       "      <progress value='0' class='progress-bar-interrupted' max='150', style='width:300px; height:20px; vertical-align: middle;'></progress>\n",
       "      Interrupted\n",
       "    </div>\n",
       "    "
      ],
      "text/plain": [
       "<IPython.core.display.HTML object>"
      ]
     },
     "metadata": {},
     "output_type": "display_data"
    },
    {
     "name": "stderr",
     "output_type": "stream",
     "text": [
      "Traceback (most recent call last):\n",
      "Traceback (most recent call last):\n",
      "  File \"/opt/anaconda3/lib/python3.7/multiprocessing/queues.py\", line 242, in _feed\n",
      "    send_bytes(obj)\n",
      "  File \"/opt/anaconda3/lib/python3.7/multiprocessing/queues.py\", line 242, in _feed\n",
      "    send_bytes(obj)\n",
      "  File \"/opt/anaconda3/lib/python3.7/multiprocessing/connection.py\", line 200, in send_bytes\n",
      "    self._send_bytes(m[offset:offset + size])\n",
      "  File \"/opt/anaconda3/lib/python3.7/multiprocessing/connection.py\", line 200, in send_bytes\n",
      "    self._send_bytes(m[offset:offset + size])\n",
      "  File \"/opt/anaconda3/lib/python3.7/multiprocessing/connection.py\", line 404, in _send_bytes\n",
      "    self._send(header + buf)\n",
      "  File \"/opt/anaconda3/lib/python3.7/multiprocessing/connection.py\", line 368, in _send\n",
      "    n = write(self._handle, buf)\n",
      "BrokenPipeError: [Errno 32] Broken pipe\n",
      "  File \"/opt/anaconda3/lib/python3.7/multiprocessing/connection.py\", line 404, in _send_bytes\n",
      "    self._send(header + buf)\n",
      "  File \"/opt/anaconda3/lib/python3.7/multiprocessing/connection.py\", line 368, in _send\n",
      "    n = write(self._handle, buf)\n",
      "BrokenPipeError: [Errno 32] Broken pipe\n"
     ]
    },
    {
     "ename": "KeyboardInterrupt",
     "evalue": "",
     "output_type": "error",
     "traceback": [
      "\u001b[0;31m---------------------------------------------------------------------------\u001b[0m",
      "\u001b[0;31mKeyboardInterrupt\u001b[0m                         Traceback (most recent call last)",
      "\u001b[0;32m<ipython-input-16-73e948488b70>\u001b[0m in \u001b[0;36m<module>\u001b[0;34m\u001b[0m\n\u001b[0;32m----> 1\u001b[0;31m \u001b[0mlearn\u001b[0m\u001b[0;34m.\u001b[0m\u001b[0mfit_one_cycle\u001b[0m\u001b[0;34m(\u001b[0m\u001b[0;36m30\u001b[0m\u001b[0;34m,\u001b[0m \u001b[0;36m1e-4\u001b[0m\u001b[0;34m)\u001b[0m\u001b[0;34m\u001b[0m\u001b[0;34m\u001b[0m\u001b[0m\n\u001b[0m",
      "\u001b[0;32m/opt/anaconda3/lib/python3.7/site-packages/fastai/train.py\u001b[0m in \u001b[0;36mfit_one_cycle\u001b[0;34m(learn, cyc_len, max_lr, moms, div_factor, pct_start, final_div, wd, callbacks, tot_epochs, start_epoch)\u001b[0m\n\u001b[1;32m     20\u001b[0m     callbacks.append(OneCycleScheduler(learn, max_lr, moms=moms, div_factor=div_factor, pct_start=pct_start,\n\u001b[1;32m     21\u001b[0m                                        final_div=final_div, tot_epochs=tot_epochs, start_epoch=start_epoch))\n\u001b[0;32m---> 22\u001b[0;31m     \u001b[0mlearn\u001b[0m\u001b[0;34m.\u001b[0m\u001b[0mfit\u001b[0m\u001b[0;34m(\u001b[0m\u001b[0mcyc_len\u001b[0m\u001b[0;34m,\u001b[0m \u001b[0mmax_lr\u001b[0m\u001b[0;34m,\u001b[0m \u001b[0mwd\u001b[0m\u001b[0;34m=\u001b[0m\u001b[0mwd\u001b[0m\u001b[0;34m,\u001b[0m \u001b[0mcallbacks\u001b[0m\u001b[0;34m=\u001b[0m\u001b[0mcallbacks\u001b[0m\u001b[0;34m)\u001b[0m\u001b[0;34m\u001b[0m\u001b[0;34m\u001b[0m\u001b[0m\n\u001b[0m\u001b[1;32m     23\u001b[0m \u001b[0;34m\u001b[0m\u001b[0m\n\u001b[1;32m     24\u001b[0m \u001b[0;32mdef\u001b[0m \u001b[0mlr_find\u001b[0m\u001b[0;34m(\u001b[0m\u001b[0mlearn\u001b[0m\u001b[0;34m:\u001b[0m\u001b[0mLearner\u001b[0m\u001b[0;34m,\u001b[0m \u001b[0mstart_lr\u001b[0m\u001b[0;34m:\u001b[0m\u001b[0mFloats\u001b[0m\u001b[0;34m=\u001b[0m\u001b[0;36m1e-7\u001b[0m\u001b[0;34m,\u001b[0m \u001b[0mend_lr\u001b[0m\u001b[0;34m:\u001b[0m\u001b[0mFloats\u001b[0m\u001b[0;34m=\u001b[0m\u001b[0;36m10\u001b[0m\u001b[0;34m,\u001b[0m \u001b[0mnum_it\u001b[0m\u001b[0;34m:\u001b[0m\u001b[0mint\u001b[0m\u001b[0;34m=\u001b[0m\u001b[0;36m100\u001b[0m\u001b[0;34m,\u001b[0m \u001b[0mstop_div\u001b[0m\u001b[0;34m:\u001b[0m\u001b[0mbool\u001b[0m\u001b[0;34m=\u001b[0m\u001b[0;32mTrue\u001b[0m\u001b[0;34m,\u001b[0m \u001b[0mwd\u001b[0m\u001b[0;34m:\u001b[0m\u001b[0mfloat\u001b[0m\u001b[0;34m=\u001b[0m\u001b[0;32mNone\u001b[0m\u001b[0;34m)\u001b[0m\u001b[0;34m:\u001b[0m\u001b[0;34m\u001b[0m\u001b[0;34m\u001b[0m\u001b[0m\n",
      "\u001b[0;32m/opt/anaconda3/lib/python3.7/site-packages/fastai/basic_train.py\u001b[0m in \u001b[0;36mfit\u001b[0;34m(self, epochs, lr, wd, callbacks)\u001b[0m\n\u001b[1;32m    198\u001b[0m         \u001b[0mcallbacks\u001b[0m \u001b[0;34m=\u001b[0m \u001b[0;34m[\u001b[0m\u001b[0mcb\u001b[0m\u001b[0;34m(\u001b[0m\u001b[0mself\u001b[0m\u001b[0;34m)\u001b[0m \u001b[0;32mfor\u001b[0m \u001b[0mcb\u001b[0m \u001b[0;32min\u001b[0m \u001b[0mself\u001b[0m\u001b[0;34m.\u001b[0m\u001b[0mcallback_fns\u001b[0m \u001b[0;34m+\u001b[0m \u001b[0mlistify\u001b[0m\u001b[0;34m(\u001b[0m\u001b[0mdefaults\u001b[0m\u001b[0;34m.\u001b[0m\u001b[0mextra_callback_fns\u001b[0m\u001b[0;34m)\u001b[0m\u001b[0;34m]\u001b[0m \u001b[0;34m+\u001b[0m \u001b[0mlistify\u001b[0m\u001b[0;34m(\u001b[0m\u001b[0mcallbacks\u001b[0m\u001b[0;34m)\u001b[0m\u001b[0;34m\u001b[0m\u001b[0;34m\u001b[0m\u001b[0m\n\u001b[1;32m    199\u001b[0m         \u001b[0;32mif\u001b[0m \u001b[0mdefaults\u001b[0m\u001b[0;34m.\u001b[0m\u001b[0mextra_callbacks\u001b[0m \u001b[0;32mis\u001b[0m \u001b[0;32mnot\u001b[0m \u001b[0;32mNone\u001b[0m\u001b[0;34m:\u001b[0m \u001b[0mcallbacks\u001b[0m \u001b[0;34m+=\u001b[0m \u001b[0mdefaults\u001b[0m\u001b[0;34m.\u001b[0m\u001b[0mextra_callbacks\u001b[0m\u001b[0;34m\u001b[0m\u001b[0;34m\u001b[0m\u001b[0m\n\u001b[0;32m--> 200\u001b[0;31m         \u001b[0mfit\u001b[0m\u001b[0;34m(\u001b[0m\u001b[0mepochs\u001b[0m\u001b[0;34m,\u001b[0m \u001b[0mself\u001b[0m\u001b[0;34m,\u001b[0m \u001b[0mmetrics\u001b[0m\u001b[0;34m=\u001b[0m\u001b[0mself\u001b[0m\u001b[0;34m.\u001b[0m\u001b[0mmetrics\u001b[0m\u001b[0;34m,\u001b[0m \u001b[0mcallbacks\u001b[0m\u001b[0;34m=\u001b[0m\u001b[0mself\u001b[0m\u001b[0;34m.\u001b[0m\u001b[0mcallbacks\u001b[0m\u001b[0;34m+\u001b[0m\u001b[0mcallbacks\u001b[0m\u001b[0;34m)\u001b[0m\u001b[0;34m\u001b[0m\u001b[0;34m\u001b[0m\u001b[0m\n\u001b[0m\u001b[1;32m    201\u001b[0m \u001b[0;34m\u001b[0m\u001b[0m\n\u001b[1;32m    202\u001b[0m     \u001b[0;32mdef\u001b[0m \u001b[0mcreate_opt\u001b[0m\u001b[0;34m(\u001b[0m\u001b[0mself\u001b[0m\u001b[0;34m,\u001b[0m \u001b[0mlr\u001b[0m\u001b[0;34m:\u001b[0m\u001b[0mFloats\u001b[0m\u001b[0;34m,\u001b[0m \u001b[0mwd\u001b[0m\u001b[0;34m:\u001b[0m\u001b[0mFloats\u001b[0m\u001b[0;34m=\u001b[0m\u001b[0;36m0.\u001b[0m\u001b[0;34m)\u001b[0m\u001b[0;34m->\u001b[0m\u001b[0;32mNone\u001b[0m\u001b[0;34m:\u001b[0m\u001b[0;34m\u001b[0m\u001b[0;34m\u001b[0m\u001b[0m\n",
      "\u001b[0;32m/opt/anaconda3/lib/python3.7/site-packages/fastai/basic_train.py\u001b[0m in \u001b[0;36mfit\u001b[0;34m(epochs, learn, callbacks, metrics)\u001b[0m\n\u001b[1;32m     99\u001b[0m             \u001b[0;32mfor\u001b[0m \u001b[0mxb\u001b[0m\u001b[0;34m,\u001b[0m\u001b[0myb\u001b[0m \u001b[0;32min\u001b[0m \u001b[0mprogress_bar\u001b[0m\u001b[0;34m(\u001b[0m\u001b[0mlearn\u001b[0m\u001b[0;34m.\u001b[0m\u001b[0mdata\u001b[0m\u001b[0;34m.\u001b[0m\u001b[0mtrain_dl\u001b[0m\u001b[0;34m,\u001b[0m \u001b[0mparent\u001b[0m\u001b[0;34m=\u001b[0m\u001b[0mpbar\u001b[0m\u001b[0;34m)\u001b[0m\u001b[0;34m:\u001b[0m\u001b[0;34m\u001b[0m\u001b[0;34m\u001b[0m\u001b[0m\n\u001b[1;32m    100\u001b[0m                 \u001b[0mxb\u001b[0m\u001b[0;34m,\u001b[0m \u001b[0myb\u001b[0m \u001b[0;34m=\u001b[0m \u001b[0mcb_handler\u001b[0m\u001b[0;34m.\u001b[0m\u001b[0mon_batch_begin\u001b[0m\u001b[0;34m(\u001b[0m\u001b[0mxb\u001b[0m\u001b[0;34m,\u001b[0m \u001b[0myb\u001b[0m\u001b[0;34m)\u001b[0m\u001b[0;34m\u001b[0m\u001b[0;34m\u001b[0m\u001b[0m\n\u001b[0;32m--> 101\u001b[0;31m                 \u001b[0mloss\u001b[0m \u001b[0;34m=\u001b[0m \u001b[0mloss_batch\u001b[0m\u001b[0;34m(\u001b[0m\u001b[0mlearn\u001b[0m\u001b[0;34m.\u001b[0m\u001b[0mmodel\u001b[0m\u001b[0;34m,\u001b[0m \u001b[0mxb\u001b[0m\u001b[0;34m,\u001b[0m \u001b[0myb\u001b[0m\u001b[0;34m,\u001b[0m \u001b[0mlearn\u001b[0m\u001b[0;34m.\u001b[0m\u001b[0mloss_func\u001b[0m\u001b[0;34m,\u001b[0m \u001b[0mlearn\u001b[0m\u001b[0;34m.\u001b[0m\u001b[0mopt\u001b[0m\u001b[0;34m,\u001b[0m \u001b[0mcb_handler\u001b[0m\u001b[0;34m)\u001b[0m\u001b[0;34m\u001b[0m\u001b[0;34m\u001b[0m\u001b[0m\n\u001b[0m\u001b[1;32m    102\u001b[0m                 \u001b[0;32mif\u001b[0m \u001b[0mcb_handler\u001b[0m\u001b[0;34m.\u001b[0m\u001b[0mon_batch_end\u001b[0m\u001b[0;34m(\u001b[0m\u001b[0mloss\u001b[0m\u001b[0;34m)\u001b[0m\u001b[0;34m:\u001b[0m \u001b[0;32mbreak\u001b[0m\u001b[0;34m\u001b[0m\u001b[0;34m\u001b[0m\u001b[0m\n\u001b[1;32m    103\u001b[0m \u001b[0;34m\u001b[0m\u001b[0m\n",
      "\u001b[0;32m/opt/anaconda3/lib/python3.7/site-packages/fastai/basic_train.py\u001b[0m in \u001b[0;36mloss_batch\u001b[0;34m(model, xb, yb, loss_func, opt, cb_handler)\u001b[0m\n\u001b[1;32m     28\u001b[0m \u001b[0;34m\u001b[0m\u001b[0m\n\u001b[1;32m     29\u001b[0m     \u001b[0;32mif\u001b[0m \u001b[0;32mnot\u001b[0m \u001b[0mloss_func\u001b[0m\u001b[0;34m:\u001b[0m \u001b[0;32mreturn\u001b[0m \u001b[0mto_detach\u001b[0m\u001b[0;34m(\u001b[0m\u001b[0mout\u001b[0m\u001b[0;34m)\u001b[0m\u001b[0;34m,\u001b[0m \u001b[0myb\u001b[0m\u001b[0;34m[\u001b[0m\u001b[0;36m0\u001b[0m\u001b[0;34m]\u001b[0m\u001b[0;34m.\u001b[0m\u001b[0mdetach\u001b[0m\u001b[0;34m(\u001b[0m\u001b[0;34m)\u001b[0m\u001b[0;34m\u001b[0m\u001b[0;34m\u001b[0m\u001b[0m\n\u001b[0;32m---> 30\u001b[0;31m     \u001b[0mloss\u001b[0m \u001b[0;34m=\u001b[0m \u001b[0mloss_func\u001b[0m\u001b[0;34m(\u001b[0m\u001b[0mout\u001b[0m\u001b[0;34m,\u001b[0m \u001b[0;34m*\u001b[0m\u001b[0myb\u001b[0m\u001b[0;34m)\u001b[0m\u001b[0;34m\u001b[0m\u001b[0;34m\u001b[0m\u001b[0m\n\u001b[0m\u001b[1;32m     31\u001b[0m \u001b[0;34m\u001b[0m\u001b[0m\n\u001b[1;32m     32\u001b[0m     \u001b[0;32mif\u001b[0m \u001b[0mopt\u001b[0m \u001b[0;32mis\u001b[0m \u001b[0;32mnot\u001b[0m \u001b[0;32mNone\u001b[0m\u001b[0;34m:\u001b[0m\u001b[0;34m\u001b[0m\u001b[0;34m\u001b[0m\u001b[0m\n",
      "\u001b[0;32m<ipython-input-13-1df830cf14bd>\u001b[0m in \u001b[0;36mloss\u001b[0;34m(x, y)\u001b[0m\n\u001b[1;32m      8\u001b[0m \u001b[0;32mdef\u001b[0m \u001b[0mloss\u001b[0m\u001b[0;34m(\u001b[0m\u001b[0mx\u001b[0m\u001b[0;34m,\u001b[0m\u001b[0my\u001b[0m\u001b[0;34m)\u001b[0m\u001b[0;34m:\u001b[0m\u001b[0;34m\u001b[0m\u001b[0;34m\u001b[0m\u001b[0m\n\u001b[1;32m      9\u001b[0m     \u001b[0mdist\u001b[0m\u001b[0;34m,\u001b[0m \u001b[0mpreds\u001b[0m \u001b[0;34m=\u001b[0m \u001b[0mx\u001b[0m\u001b[0;34m\u001b[0m\u001b[0;34m\u001b[0m\u001b[0m\n\u001b[0;32m---> 10\u001b[0;31m     \u001b[0ml\u001b[0m \u001b[0;34m=\u001b[0m \u001b[0mhinge_loss\u001b[0m\u001b[0;34m(\u001b[0m\u001b[0mdist\u001b[0m\u001b[0;34m,\u001b[0m\u001b[0my\u001b[0m\u001b[0;34m)\u001b[0m\u001b[0;34m.\u001b[0m\u001b[0mmean\u001b[0m\u001b[0;34m(\u001b[0m\u001b[0;34m)\u001b[0m\u001b[0;34m\u001b[0m\u001b[0;34m\u001b[0m\u001b[0m\n\u001b[0m\u001b[1;32m     11\u001b[0m     \u001b[0ml2\u001b[0m \u001b[0;34m=\u001b[0m \u001b[0mnn\u001b[0m\u001b[0;34m.\u001b[0m\u001b[0mBCEWithLogitsLoss\u001b[0m\u001b[0;34m(\u001b[0m\u001b[0;34m)\u001b[0m\u001b[0;34m(\u001b[0m\u001b[0mpreds\u001b[0m\u001b[0;34m.\u001b[0m\u001b[0msqueeze\u001b[0m\u001b[0;34m(\u001b[0m\u001b[0;34m)\u001b[0m\u001b[0;34m,\u001b[0m\u001b[0my\u001b[0m\u001b[0;34m.\u001b[0m\u001b[0mfloat\u001b[0m\u001b[0;34m(\u001b[0m\u001b[0;34m)\u001b[0m\u001b[0;34m)\u001b[0m\u001b[0;34m\u001b[0m\u001b[0;34m\u001b[0m\u001b[0m\n\u001b[1;32m     12\u001b[0m     \u001b[0;32mreturn\u001b[0m \u001b[0ml\u001b[0m \u001b[0;34m+\u001b[0m \u001b[0;36m10\u001b[0m\u001b[0;34m*\u001b[0m\u001b[0ml2\u001b[0m\u001b[0;34m\u001b[0m\u001b[0;34m\u001b[0m\u001b[0m\n",
      "\u001b[0;32m<ipython-input-13-1df830cf14bd>\u001b[0m in \u001b[0;36mhinge_loss\u001b[0;34m(x, y, m)\u001b[0m\n\u001b[1;32m      2\u001b[0m     \u001b[0mdiff\u001b[0m \u001b[0;34m=\u001b[0m \u001b[0mx\u001b[0m\u001b[0;34m\u001b[0m\u001b[0;34m\u001b[0m\u001b[0m\n\u001b[1;32m      3\u001b[0m     \u001b[0mdiff\u001b[0m \u001b[0;34m=\u001b[0m \u001b[0mdiff\u001b[0m\u001b[0;34m.\u001b[0m\u001b[0mmean\u001b[0m\u001b[0;34m(\u001b[0m\u001b[0;34m-\u001b[0m\u001b[0;36m1\u001b[0m\u001b[0;34m)\u001b[0m\u001b[0;34m\u001b[0m\u001b[0;34m\u001b[0m\u001b[0m\n\u001b[0;32m----> 4\u001b[0;31m     \u001b[0mdiff\u001b[0m\u001b[0;34m[\u001b[0m\u001b[0my\u001b[0m\u001b[0;34m==\u001b[0m\u001b[0;36m0\u001b[0m\u001b[0;34m]\u001b[0m \u001b[0;34m=\u001b[0m \u001b[0mm\u001b[0m\u001b[0;34m**\u001b[0m\u001b[0;36m2\u001b[0m \u001b[0;34m-\u001b[0m \u001b[0mdiff\u001b[0m\u001b[0;34m[\u001b[0m\u001b[0my\u001b[0m\u001b[0;34m==\u001b[0m\u001b[0;36m0\u001b[0m\u001b[0;34m]\u001b[0m\u001b[0;34m\u001b[0m\u001b[0;34m\u001b[0m\u001b[0m\n\u001b[0m\u001b[1;32m      5\u001b[0m     \u001b[0mdiff\u001b[0m\u001b[0;34m[\u001b[0m\u001b[0mdiff\u001b[0m \u001b[0;34m<\u001b[0m \u001b[0;36m0\u001b[0m\u001b[0;34m]\u001b[0m \u001b[0;34m=\u001b[0m \u001b[0;36m0\u001b[0m\u001b[0;34m\u001b[0m\u001b[0;34m\u001b[0m\u001b[0m\n\u001b[1;32m      6\u001b[0m     \u001b[0;32mreturn\u001b[0m \u001b[0mdiff\u001b[0m\u001b[0;34m\u001b[0m\u001b[0;34m\u001b[0m\u001b[0m\n",
      "\u001b[0;31mKeyboardInterrupt\u001b[0m: "
     ]
    }
   ],
   "source": [
    "learn.fit_one_cycle(30, 1e-4)"
   ]
  },
  {
   "cell_type": "markdown",
   "metadata": {},
   "source": [
    "We randomly sample a new training set but retain the old validation set."
   ]
  },
  {
   "cell_type": "code",
   "execution_count": 23,
   "metadata": {},
   "outputs": [],
   "source": [
    "sd = SiameseDataset.from_label_list(imgs.train, val_idx, 3000, 1000, vll_=learn.data.valid_ds)\n",
    "data = sd.transform(get_transforms(), size=224).databunch(bs=30)"
   ]
  },
  {
   "cell_type": "code",
   "execution_count": 24,
   "metadata": {
    "scrolled": true
   },
   "outputs": [
    {
     "data": {
      "text/html": [
       "<table border=\"1\" class=\"dataframe\">\n",
       "  <thead>\n",
       "    <tr style=\"text-align: left;\">\n",
       "      <th>epoch</th>\n",
       "      <th>train_loss</th>\n",
       "      <th>valid_loss</th>\n",
       "      <th>hinge_acc</th>\n",
       "      <th>ce_acc</th>\n",
       "      <th>time</th>\n",
       "    </tr>\n",
       "  </thead>\n",
       "  <tbody>\n",
       "    <tr>\n",
       "      <td>0</td>\n",
       "      <td>6.802286</td>\n",
       "      <td>7.946409</td>\n",
       "      <td>0.758000</td>\n",
       "      <td>0.822000</td>\n",
       "      <td>00:41</td>\n",
       "    </tr>\n",
       "    <tr>\n",
       "      <td>1</td>\n",
       "      <td>6.202328</td>\n",
       "      <td>7.411335</td>\n",
       "      <td>0.772667</td>\n",
       "      <td>0.840222</td>\n",
       "      <td>00:41</td>\n",
       "    </tr>\n",
       "    <tr>\n",
       "      <td>2</td>\n",
       "      <td>5.684734</td>\n",
       "      <td>7.578803</td>\n",
       "      <td>0.766000</td>\n",
       "      <td>0.839778</td>\n",
       "      <td>00:42</td>\n",
       "    </tr>\n",
       "    <tr>\n",
       "      <td>3</td>\n",
       "      <td>4.566235</td>\n",
       "      <td>7.304679</td>\n",
       "      <td>0.771333</td>\n",
       "      <td>0.843333</td>\n",
       "      <td>00:42</td>\n",
       "    </tr>\n",
       "    <tr>\n",
       "      <td>4</td>\n",
       "      <td>3.857183</td>\n",
       "      <td>7.432458</td>\n",
       "      <td>0.782000</td>\n",
       "      <td>0.855111</td>\n",
       "      <td>00:42</td>\n",
       "    </tr>\n",
       "    <tr>\n",
       "      <td>5</td>\n",
       "      <td>3.476911</td>\n",
       "      <td>7.601839</td>\n",
       "      <td>0.775333</td>\n",
       "      <td>0.854222</td>\n",
       "      <td>00:42</td>\n",
       "    </tr>\n",
       "    <tr>\n",
       "      <td>6</td>\n",
       "      <td>3.050252</td>\n",
       "      <td>7.629997</td>\n",
       "      <td>0.777333</td>\n",
       "      <td>0.858222</td>\n",
       "      <td>00:42</td>\n",
       "    </tr>\n",
       "  </tbody>\n",
       "</table>"
      ],
      "text/plain": [
       "<IPython.core.display.HTML object>"
      ]
     },
     "metadata": {},
     "output_type": "display_data"
    }
   ],
   "source": [
    "learn.data = data\n",
    "learn.fit_one_cycle(7, 1e-4)"
   ]
  },
  {
   "cell_type": "code",
   "execution_count": 25,
   "metadata": {},
   "outputs": [],
   "source": [
    "learn.save('2_v2')"
   ]
  },
  {
   "cell_type": "code",
   "execution_count": 26,
   "metadata": {},
   "outputs": [
    {
     "data": {
      "text/html": [
       "<table border=\"1\" class=\"dataframe\">\n",
       "  <thead>\n",
       "    <tr style=\"text-align: left;\">\n",
       "      <th>epoch</th>\n",
       "      <th>train_loss</th>\n",
       "      <th>valid_loss</th>\n",
       "      <th>hinge_acc</th>\n",
       "      <th>ce_acc</th>\n",
       "      <th>time</th>\n",
       "    </tr>\n",
       "  </thead>\n",
       "  <tbody>\n",
       "    <tr>\n",
       "      <td>0</td>\n",
       "      <td>5.747616</td>\n",
       "      <td>7.016694</td>\n",
       "      <td>0.777333</td>\n",
       "      <td>0.856000</td>\n",
       "      <td>01:05</td>\n",
       "    </tr>\n",
       "    <tr>\n",
       "      <td>1</td>\n",
       "      <td>5.687004</td>\n",
       "      <td>6.966292</td>\n",
       "      <td>0.776667</td>\n",
       "      <td>0.859333</td>\n",
       "      <td>01:05</td>\n",
       "    </tr>\n",
       "    <tr>\n",
       "      <td>2</td>\n",
       "      <td>5.359519</td>\n",
       "      <td>6.983399</td>\n",
       "      <td>0.789333</td>\n",
       "      <td>0.865333</td>\n",
       "      <td>01:05</td>\n",
       "    </tr>\n",
       "    <tr>\n",
       "      <td>3</td>\n",
       "      <td>4.791476</td>\n",
       "      <td>7.685415</td>\n",
       "      <td>0.774667</td>\n",
       "      <td>0.857778</td>\n",
       "      <td>01:05</td>\n",
       "    </tr>\n",
       "    <tr>\n",
       "      <td>4</td>\n",
       "      <td>4.038931</td>\n",
       "      <td>7.348262</td>\n",
       "      <td>0.789333</td>\n",
       "      <td>0.850889</td>\n",
       "      <td>01:05</td>\n",
       "    </tr>\n",
       "    <tr>\n",
       "      <td>5</td>\n",
       "      <td>3.535996</td>\n",
       "      <td>6.857975</td>\n",
       "      <td>0.786667</td>\n",
       "      <td>0.868889</td>\n",
       "      <td>01:05</td>\n",
       "    </tr>\n",
       "    <tr>\n",
       "      <td>6</td>\n",
       "      <td>3.074110</td>\n",
       "      <td>7.105122</td>\n",
       "      <td>0.790667</td>\n",
       "      <td>0.869333</td>\n",
       "      <td>01:06</td>\n",
       "    </tr>\n",
       "    <tr>\n",
       "      <td>7</td>\n",
       "      <td>2.729534</td>\n",
       "      <td>7.243258</td>\n",
       "      <td>0.789333</td>\n",
       "      <td>0.872667</td>\n",
       "      <td>01:05</td>\n",
       "    </tr>\n",
       "    <tr>\n",
       "      <td>8</td>\n",
       "      <td>2.422235</td>\n",
       "      <td>7.259499</td>\n",
       "      <td>0.789333</td>\n",
       "      <td>0.877111</td>\n",
       "      <td>01:05</td>\n",
       "    </tr>\n",
       "    <tr>\n",
       "      <td>9</td>\n",
       "      <td>2.285249</td>\n",
       "      <td>7.207003</td>\n",
       "      <td>0.791333</td>\n",
       "      <td>0.874444</td>\n",
       "      <td>01:05</td>\n",
       "    </tr>\n",
       "  </tbody>\n",
       "</table>"
      ],
      "text/plain": [
       "<IPython.core.display.HTML object>"
      ]
     },
     "metadata": {},
     "output_type": "display_data"
    }
   ],
   "source": [
    "sd = SiameseDataset.from_label_list(imgs.train, val_idx, 5000, 1000, vll_=learn.data.valid_ds)\n",
    "data = sd.transform(get_transforms(), size=224).databunch(bs=30)\n",
    "learn.data = data\n",
    "learn.fit_one_cycle(10, 1e-4)"
   ]
  },
  {
   "cell_type": "code",
   "execution_count": 27,
   "metadata": {},
   "outputs": [],
   "source": [
    "learn.save('3_v2')"
   ]
  },
  {
   "cell_type": "code",
   "execution_count": 28,
   "metadata": {},
   "outputs": [
    {
     "data": {
      "text/html": [
       "<table border=\"1\" class=\"dataframe\">\n",
       "  <thead>\n",
       "    <tr style=\"text-align: left;\">\n",
       "      <th>epoch</th>\n",
       "      <th>train_loss</th>\n",
       "      <th>valid_loss</th>\n",
       "      <th>hinge_acc</th>\n",
       "      <th>ce_acc</th>\n",
       "      <th>time</th>\n",
       "    </tr>\n",
       "  </thead>\n",
       "  <tbody>\n",
       "    <tr>\n",
       "      <td>0</td>\n",
       "      <td>4.947531</td>\n",
       "      <td>6.811254</td>\n",
       "      <td>0.796667</td>\n",
       "      <td>0.856889</td>\n",
       "      <td>01:04</td>\n",
       "    </tr>\n",
       "    <tr>\n",
       "      <td>1</td>\n",
       "      <td>4.927116</td>\n",
       "      <td>6.896203</td>\n",
       "      <td>0.793333</td>\n",
       "      <td>0.855555</td>\n",
       "      <td>01:05</td>\n",
       "    </tr>\n",
       "    <tr>\n",
       "      <td>2</td>\n",
       "      <td>4.656823</td>\n",
       "      <td>6.538965</td>\n",
       "      <td>0.803333</td>\n",
       "      <td>0.857778</td>\n",
       "      <td>01:04</td>\n",
       "    </tr>\n",
       "    <tr>\n",
       "      <td>3</td>\n",
       "      <td>3.808827</td>\n",
       "      <td>6.062382</td>\n",
       "      <td>0.806000</td>\n",
       "      <td>0.879556</td>\n",
       "      <td>01:05</td>\n",
       "    </tr>\n",
       "    <tr>\n",
       "      <td>4</td>\n",
       "      <td>3.357447</td>\n",
       "      <td>6.078907</td>\n",
       "      <td>0.813333</td>\n",
       "      <td>0.884000</td>\n",
       "      <td>01:05</td>\n",
       "    </tr>\n",
       "    <tr>\n",
       "      <td>5</td>\n",
       "      <td>2.691316</td>\n",
       "      <td>6.108104</td>\n",
       "      <td>0.816667</td>\n",
       "      <td>0.887333</td>\n",
       "      <td>01:05</td>\n",
       "    </tr>\n",
       "    <tr>\n",
       "      <td>6</td>\n",
       "      <td>2.309016</td>\n",
       "      <td>6.158706</td>\n",
       "      <td>0.816667</td>\n",
       "      <td>0.885333</td>\n",
       "      <td>01:05</td>\n",
       "    </tr>\n",
       "    <tr>\n",
       "      <td>7</td>\n",
       "      <td>2.346493</td>\n",
       "      <td>6.193950</td>\n",
       "      <td>0.817333</td>\n",
       "      <td>0.889333</td>\n",
       "      <td>01:05</td>\n",
       "    </tr>\n",
       "  </tbody>\n",
       "</table>"
      ],
      "text/plain": [
       "<IPython.core.display.HTML object>"
      ]
     },
     "metadata": {},
     "output_type": "display_data"
    }
   ],
   "source": [
    "sd = SiameseDataset.from_label_list(imgs.train, val_idx, 5000, 1000, vll_=learn.data.valid_ds)\n",
    "data = sd.transform(get_transforms(), size=224).databunch(bs=30)\n",
    "learn.data = data\n",
    "learn.fit_one_cycle(8, 1e-4)"
   ]
  },
  {
   "cell_type": "code",
   "execution_count": 29,
   "metadata": {},
   "outputs": [],
   "source": [
    "learn.save('4_v2')"
   ]
  },
  {
   "cell_type": "code",
   "execution_count": 31,
   "metadata": {
    "scrolled": true
   },
   "outputs": [
    {
     "name": "stderr",
     "output_type": "stream",
     "text": [
      "/opt/anaconda3/lib/python3.7/site-packages/torch/serialization.py:256: UserWarning: Couldn't retrieve source code for container of type SiameseNetwork. It won't be checked for correctness upon loading.\n",
      "  \"type \" + obj.__name__ + \". It won't be checked \"\n"
     ]
    },
    {
     "data": {
      "text/html": [
       "<table border=\"1\" class=\"dataframe\">\n",
       "  <thead>\n",
       "    <tr style=\"text-align: left;\">\n",
       "      <th>epoch</th>\n",
       "      <th>train_loss</th>\n",
       "      <th>valid_loss</th>\n",
       "      <th>hinge_acc</th>\n",
       "      <th>ce_acc</th>\n",
       "      <th>time</th>\n",
       "    </tr>\n",
       "  </thead>\n",
       "  <tbody>\n",
       "    <tr>\n",
       "      <td>0</td>\n",
       "      <td>2.092045</td>\n",
       "      <td>6.192647</td>\n",
       "      <td>0.814000</td>\n",
       "      <td>0.889333</td>\n",
       "      <td>01:05</td>\n",
       "    </tr>\n",
       "    <tr>\n",
       "      <td>1</td>\n",
       "      <td>2.225828</td>\n",
       "      <td>6.047504</td>\n",
       "      <td>0.816667</td>\n",
       "      <td>0.891333</td>\n",
       "      <td>01:06</td>\n",
       "    </tr>\n",
       "    <tr>\n",
       "      <td>2</td>\n",
       "      <td>2.082879</td>\n",
       "      <td>6.205244</td>\n",
       "      <td>0.820000</td>\n",
       "      <td>0.890667</td>\n",
       "      <td>01:06</td>\n",
       "    </tr>\n",
       "    <tr>\n",
       "      <td>3</td>\n",
       "      <td>1.999258</td>\n",
       "      <td>6.232928</td>\n",
       "      <td>0.816000</td>\n",
       "      <td>0.888000</td>\n",
       "      <td>01:06</td>\n",
       "    </tr>\n",
       "    <tr>\n",
       "      <td>4</td>\n",
       "      <td>1.942400</td>\n",
       "      <td>6.265812</td>\n",
       "      <td>0.820667</td>\n",
       "      <td>0.895333</td>\n",
       "      <td>01:06</td>\n",
       "    </tr>\n",
       "    <tr>\n",
       "      <td>5</td>\n",
       "      <td>1.866558</td>\n",
       "      <td>6.262212</td>\n",
       "      <td>0.818000</td>\n",
       "      <td>0.890000</td>\n",
       "      <td>01:05</td>\n",
       "    </tr>\n",
       "    <tr>\n",
       "      <td>6</td>\n",
       "      <td>1.932559</td>\n",
       "      <td>6.330747</td>\n",
       "      <td>0.817333</td>\n",
       "      <td>0.890000</td>\n",
       "      <td>01:05</td>\n",
       "    </tr>\n",
       "    <tr>\n",
       "      <td>7</td>\n",
       "      <td>1.821096</td>\n",
       "      <td>6.316938</td>\n",
       "      <td>0.812667</td>\n",
       "      <td>0.888000</td>\n",
       "      <td>01:05</td>\n",
       "    </tr>\n",
       "    <tr>\n",
       "      <td>8</td>\n",
       "      <td>1.825383</td>\n",
       "      <td>6.313887</td>\n",
       "      <td>0.816000</td>\n",
       "      <td>0.887333</td>\n",
       "      <td>01:06</td>\n",
       "    </tr>\n",
       "    <tr>\n",
       "      <td>9</td>\n",
       "      <td>1.856655</td>\n",
       "      <td>6.303589</td>\n",
       "      <td>0.816667</td>\n",
       "      <td>0.890667</td>\n",
       "      <td>01:05</td>\n",
       "    </tr>\n",
       "  </tbody>\n",
       "</table>"
      ],
      "text/plain": [
       "<IPython.core.display.HTML object>"
      ]
     },
     "metadata": {},
     "output_type": "display_data"
    }
   ],
   "source": [
    "learn.load('4_v2');\n",
    "learn.fit_one_cycle(10, 1e-5)"
   ]
  },
  {
   "cell_type": "code",
   "execution_count": 32,
   "metadata": {},
   "outputs": [],
   "source": [
    "learn.save('5_v2')"
   ]
  },
  {
   "cell_type": "markdown",
   "metadata": {},
   "source": [
    "# Inference"
   ]
  },
  {
   "cell_type": "code",
   "execution_count": 37,
   "metadata": {},
   "outputs": [
    {
     "data": {
      "image/png": "[encoded data removed]",
      "text/plain": [
       "<Figure size 216x216 with 1 Axes>"
      ]
     },
     "metadata": {
      "needs_background": "light"
     },
     "output_type": "display_data"
    },
    {
     "data": {
      "image/png": "[encoded data removed]",
      "text/plain": [
       "<Figure size 216x216 with 1 Axes>"
      ]
     },
     "metadata": {
      "needs_background": "light"
     },
     "output_type": "display_data"
    }
   ],
   "source": [
    "hobbs1 = open_image('images/hobbs1.jpeg')\n",
    "hobbs1.show()\n",
    "\n",
    "hobbs2 = open_image('images/hobbs2.jpg')\n",
    "hobbs2.show()"
   ]
  },
  {
   "cell_type": "markdown",
   "metadata": {},
   "source": [
    "Model is pretty confident that these two are the same guys."
   ]
  },
  {
   "cell_type": "code",
   "execution_count": 66,
   "metadata": {
    "scrolled": true
   },
   "outputs": [
    {
     "data": {
      "text/plain": [
       "tensor([[0.9903]], device='cuda:0', grad_fn=<SigmoidBackward>)"
      ]
     },
     "execution_count": 66,
     "metadata": {},
     "output_type": "execute_result"
    }
   ],
   "source": [
    "inp = torch.stack([hobbs1.resize(224).px[None],hobbs2.resize(224).px[None]],1)\n",
    "_,p = learn.model(inp.cuda())\n",
    "p.sigmoid()"
   ]
  },
  {
   "cell_type": "code",
   "execution_count": 67,
   "metadata": {},
   "outputs": [
    {
     "data": {
      "image/png": "[encoded data removed]",
      "text/plain": [
       "<Figure size 216x216 with 1 Axes>"
      ]
     },
     "metadata": {
      "needs_background": "light"
     },
     "output_type": "display_data"
    },
    {
     "data": {
      "image/png": "[encoded data removed]",
      "text/plain": [
       "<Figure size 216x216 with 1 Axes>"
      ]
     },
     "metadata": {
      "needs_background": "light"
     },
     "output_type": "display_data"
    }
   ],
   "source": [
    "shaw1 = open_image('images/shaw1.jpg')\n",
    "shaw1.show()\n",
    "\n",
    "shaw2 = open_image('images/shaw2.jpg')\n",
    "shaw2.show()"
   ]
  },
  {
   "cell_type": "markdown",
   "metadata": {},
   "source": [
    "A little less confident here, but we'll take it."
   ]
  },
  {
   "cell_type": "code",
   "execution_count": 68,
   "metadata": {},
   "outputs": [
    {
     "data": {
      "text/plain": [
       "tensor([[0.7831]], device='cuda:0', grad_fn=<SigmoidBackward>)"
      ]
     },
     "execution_count": 68,
     "metadata": {},
     "output_type": "execute_result"
    }
   ],
   "source": [
    "inp = torch.stack([shaw1.resize(224).px[None],shaw2.resize(224).px[None]],1)\n",
    "_,p = learn.model(inp.cuda())\n",
    "p.sigmoid()"
   ]
  },
  {
   "cell_type": "markdown",
   "metadata": {},
   "source": [
    "What does the model think about different people? Well fuck, the model thinks all bald guys are the same."
   ]
  },
  {
   "cell_type": "code",
   "execution_count": 71,
   "metadata": {},
   "outputs": [
    {
     "data": {
      "text/plain": [
       "tensor([[0.9487]], device='cuda:0', grad_fn=<SigmoidBackward>)"
      ]
     },
     "execution_count": 71,
     "metadata": {},
     "output_type": "execute_result"
    }
   ],
   "source": [
    "inp = torch.stack([shaw1.resize(224).px[None],hobbs1.resize(224).px[None]],1)\n",
    "_,p = learn.model(inp.cuda())\n",
    "p.sigmoid()"
   ]
  },
  {
   "cell_type": "code",
   "execution_count": 72,
   "metadata": {},
   "outputs": [
    {
     "data": {
      "text/plain": [
       "tensor([[0.9520]], device='cuda:0', grad_fn=<SigmoidBackward>)"
      ]
     },
     "execution_count": 72,
     "metadata": {},
     "output_type": "execute_result"
    }
   ],
   "source": [
    "inp = torch.stack([shaw2.resize(224).px[None],hobbs1.resize(224).px[None]],1)\n",
    "_,p = learn.model(inp.cuda())\n",
    "p.sigmoid()"
   ]
  },
  {
   "cell_type": "markdown",
   "metadata": {},
   "source": [
    "Well, at least the model can tell apart males and females.:) "
   ]
  },
  {
   "cell_type": "code",
   "execution_count": 73,
   "metadata": {},
   "outputs": [
    {
     "data": {
      "text/plain": [
       "tensor([[4.5366e-05]], device='cuda:0', grad_fn=<SigmoidBackward>)"
      ]
     },
     "execution_count": 73,
     "metadata": {},
     "output_type": "execute_result"
    },
    {
     "data": {
      "image/png": "[encoded data removed]",
      "text/plain": [
       "<Figure size 216x216 with 1 Axes>"
      ]
     },
     "metadata": {
      "needs_background": "light"
     },
     "output_type": "display_data"
    }
   ],
   "source": [
    "kirby1 = open_image('images/kirby1.jpg')\n",
    "kirby1.show()\n",
    "\n",
    "inp = torch.stack([shaw2.resize(224).px[None],kirby1.resize(224).px[None]],1)\n",
    "_,p = learn.model(inp.cuda())\n",
    "p.sigmoid()"
   ]
  },
  {
   "cell_type": "code",
   "execution_count": 74,
   "metadata": {},
   "outputs": [
    {
     "data": {
      "text/plain": [
       "tensor([[3.9535e-06]], device='cuda:0', grad_fn=<SigmoidBackward>)"
      ]
     },
     "execution_count": 74,
     "metadata": {},
     "output_type": "execute_result"
    }
   ],
   "source": [
    "inp = torch.stack([hobbs2.resize(224).px[None],kirby1.resize(224).px[None]],1)\n",
    "_,p = learn.model(inp.cuda())\n",
    "p.sigmoid()"
   ]
  },
  {
   "cell_type": "markdown",
   "metadata": {},
   "source": [
    "# Curriculum Learning - DOESNT WORK\n",
    "\n",
    "We sample hard cases, and work on those. We are primarily looking for different pairs with distances that are too close."
   ]
  },
  {
   "cell_type": "code",
   "execution_count": 283,
   "metadata": {},
   "outputs": [],
   "source": [
    "names = imgs.train.y.classes\n",
    "all_ims_data = imgs.transform(size=224).databunch(bs=40)\n",
    "paths_of_name = {folder.name:folder.ls() for folder in folders.ls() if folder.name in names}"
   ]
  },
  {
   "cell_type": "markdown",
   "metadata": {},
   "source": [
    "We expect to see higher training losses than before, this is because we deliberately sampled pairs that are more difficult."
   ]
  },
  {
   "cell_type": "code",
   "execution_count": 284,
   "metadata": {},
   "outputs": [],
   "source": [
    "def get_training_data():\n",
    "    K=2\n",
    "    features = []\n",
    "    print('Calculating features for all images.')\n",
    "    for xb,yb in all_ims_data.fix_dl:\n",
    "        features.append(learn.model.head(learn.model.body(xb)).detach()) \n",
    "    features = torch.cat(features).cuda()    \n",
    "    print('Calculating similarity between images.')\n",
    "    dists = {}\n",
    "    for i, im in enumerate(progress_bar(all_ims_data.fix_dl.items[:len(features)])):\n",
    "        dists[im] = torch.pairwise_distance(features[i], features).cpu().numpy()\n",
    "    all_train_ims = all_ims_data.fix_dl.items\n",
    "\n",
    "    #filter out images that belong to validation classes\n",
    "    relevant_idx = [n for n,im in enumerate(all_train_ims[:len(features)]) if im.parent.name not in val_classes]\n",
    "    all_train_ims = all_train_ims[relevant_idx]\n",
    "    features = features[relevant_idx]      \n",
    "\n",
    "    print(f'Sampling different pairs for all training images.')\n",
    "    diff_pairs = np.empty((0,2))\n",
    "    for curr_im in progress_bar(all_train_ims):\n",
    "        curr_person = paths_of_name[curr_im.parent.name]\n",
    "        diff_files = []\n",
    "        dist = []\n",
    "        name_dist = [(fname,d) for fname,d in zip(all_train_ims[:len(features)],dists[curr_im]) if fname not in curr_person]\n",
    "        name_dist.sort(key = lambda x:x[1])\n",
    "        for p,d in name_dist[:K]:\n",
    "            to_append = np.array([curr_im,p])[None]\n",
    "            diff_pairs = np.concatenate([diff_pairs,to_append])                        \n",
    "\n",
    "    print(f'Sampling same pairs for all training images.')\n",
    "    same_pairs = np.empty((0,2))\n",
    "    for k,v in progress_bar(paths_of_name.items()):\n",
    "        if k in val_classes: continue\n",
    "        if len(v) <= 1: continue\n",
    "\n",
    "        #all combinations of two\n",
    "        all_combs = np.array(list(itertools.combinations(v,2)))\n",
    "        same_pairs = np.concatenate([same_pairs,all_combs])           \n",
    "\n",
    "\n",
    "    # Combine together \n",
    "    al = np.concatenate([same_pairs, diff_pairs])\n",
    "    # Generate labels\n",
    "    labels = np.concatenate([np.ones(len(same_pairs), dtype=np.int8), np.zeros(len(diff_pairs), dtype=np.int8)])\n",
    "\n",
    "    tll = SiameseDataset(SiameseList(al, open_fn=imgs.train.x.open), CategoryList(labels, ['different', 'similar']))\n",
    "    return tll"
   ]
  },
  {
   "cell_type": "code",
   "execution_count": 285,
   "metadata": {},
   "outputs": [
    {
     "name": "stdout",
     "output_type": "stream",
     "text": [
      "Calculating features for all images.\n",
      "Calculating similarity between images.\n"
     ]
    },
    {
     "data": {
      "text/html": [
       "\n",
       "    <div>\n",
       "        <style>\n",
       "            /* Turns off some styling */\n",
       "            progress {\n",
       "                /* gets rid of default border in Firefox and Opera. */\n",
       "                border: none;\n",
       "                /* Needs to be in here for Safari polyfill so background images work as expected. */\n",
       "                background-size: auto;\n",
       "            }\n",
       "            .progress-bar-interrupted, .progress-bar-interrupted::-webkit-progress-bar {\n",
       "                background: #F44336;\n",
       "            }\n",
       "        </style>\n",
       "      <progress value='13233' class='' max='13233', style='width:300px; height:20px; vertical-align: middle;'></progress>\n",
       "      100.00% [13233/13233 00:08<00:00]\n",
       "    </div>\n",
       "    "
      ],
      "text/plain": [
       "<IPython.core.display.HTML object>"
      ]
     },
     "metadata": {},
     "output_type": "display_data"
    },
    {
     "name": "stdout",
     "output_type": "stream",
     "text": [
      "Sampling different pairs for all training images.\n"
     ]
    },
    {
     "data": {
      "text/html": [
       "\n",
       "    <div>\n",
       "        <style>\n",
       "            /* Turns off some styling */\n",
       "            progress {\n",
       "                /* gets rid of default border in Firefox and Opera. */\n",
       "                border: none;\n",
       "                /* Needs to be in here for Safari polyfill so background images work as expected. */\n",
       "                background-size: auto;\n",
       "            }\n",
       "            .progress-bar-interrupted, .progress-bar-interrupted::-webkit-progress-bar {\n",
       "                background: #F44336;\n",
       "            }\n",
       "        </style>\n",
       "      <progress value='8273' class='' max='8273', style='width:300px; height:20px; vertical-align: middle;'></progress>\n",
       "      100.00% [8273/8273 04:34<00:00]\n",
       "    </div>\n",
       "    "
      ],
      "text/plain": [
       "<IPython.core.display.HTML object>"
      ]
     },
     "metadata": {},
     "output_type": "display_data"
    },
    {
     "name": "stdout",
     "output_type": "stream",
     "text": [
      "Sampling same pairs for all training images.\n"
     ]
    },
    {
     "data": {
      "text/html": [
       "\n",
       "    <div>\n",
       "        <style>\n",
       "            /* Turns off some styling */\n",
       "            progress {\n",
       "                /* gets rid of default border in Firefox and Opera. */\n",
       "                border: none;\n",
       "                /* Needs to be in here for Safari polyfill so background images work as expected. */\n",
       "                background-size: auto;\n",
       "            }\n",
       "            .progress-bar-interrupted, .progress-bar-interrupted::-webkit-progress-bar {\n",
       "                background: #F44336;\n",
       "            }\n",
       "        </style>\n",
       "      <progress value='5749' class='' max='5749', style='width:300px; height:20px; vertical-align: middle;'></progress>\n",
       "      100.00% [5749/5749 00:00<00:00]\n",
       "    </div>\n",
       "    "
      ],
      "text/plain": [
       "<IPython.core.display.HTML object>"
      ]
     },
     "metadata": {},
     "output_type": "display_data"
    }
   ],
   "source": [
    "tll = get_training_data()\n",
    "src = LabelLists(imgs.train.x.path, tll, data.valid_ds)"
   ]
  },
  {
   "cell_type": "code",
   "execution_count": 286,
   "metadata": {},
   "outputs": [
    {
     "data": {
      "text/html": [],
      "text/plain": [
       "<IPython.core.display.HTML object>"
      ]
     },
     "metadata": {},
     "output_type": "display_data"
    },
    {
     "name": "stdout",
     "output_type": "stream",
     "text": [
      "LR Finder is complete, type {learner_name}.recorder.plot() to see the graph.\n"
     ]
    },
    {
     "data": {
      "image/png": "[encoded data removed]",
      "text/plain": [
       "<Figure size 432x288 with 1 Axes>"
      ]
     },
     "metadata": {
      "needs_background": "light"
     },
     "output_type": "display_data"
    }
   ],
   "source": [
    "data = src.transform(get_transforms(), size=224).databunch(bs=30)\n",
    "learn.data = data\n",
    "learn = learn.clip_grad(1)\n",
    "learn.lr_find()\n",
    "learn.recorder.plot()"
   ]
  },
  {
   "cell_type": "code",
   "execution_count": 291,
   "metadata": {
    "scrolled": true
   },
   "outputs": [
    {
     "data": {
      "text/html": [
       "<table border=\"1\" class=\"dataframe\">\n",
       "  <thead>\n",
       "    <tr style=\"text-align: left;\">\n",
       "      <th>epoch</th>\n",
       "      <th>train_loss</th>\n",
       "      <th>valid_loss</th>\n",
       "      <th>hinge_acc</th>\n",
       "      <th>ce_acc</th>\n",
       "      <th>time</th>\n",
       "    </tr>\n",
       "  </thead>\n",
       "  <tbody>\n",
       "    <tr>\n",
       "      <td>0</td>\n",
       "      <td>8.011114</td>\n",
       "      <td>10.337516</td>\n",
       "      <td>0.744000</td>\n",
       "      <td>0.741111</td>\n",
       "      <td>04:38</td>\n",
       "    </tr>\n",
       "  </tbody>\n",
       "</table>"
      ],
      "text/plain": [
       "<IPython.core.display.HTML object>"
      ]
     },
     "metadata": {},
     "output_type": "display_data"
    }
   ],
   "source": [
    "learn.fit_one_cycle(1,5e-5)"
   ]
  },
  {
   "cell_type": "code",
   "execution_count": 292,
   "metadata": {},
   "outputs": [
    {
     "name": "stdout",
     "output_type": "stream",
     "text": [
      "Calculating features for all images.\n",
      "Calculating similarity between images.\n"
     ]
    },
    {
     "data": {
      "text/html": [
       "\n",
       "    <div>\n",
       "        <style>\n",
       "            /* Turns off some styling */\n",
       "            progress {\n",
       "                /* gets rid of default border in Firefox and Opera. */\n",
       "                border: none;\n",
       "                /* Needs to be in here for Safari polyfill so background images work as expected. */\n",
       "                background-size: auto;\n",
       "            }\n",
       "            .progress-bar-interrupted, .progress-bar-interrupted::-webkit-progress-bar {\n",
       "                background: #F44336;\n",
       "            }\n",
       "        </style>\n",
       "      <progress value='13233' class='' max='13233', style='width:300px; height:20px; vertical-align: middle;'></progress>\n",
       "      100.00% [13233/13233 00:08<00:00]\n",
       "    </div>\n",
       "    "
      ],
      "text/plain": [
       "<IPython.core.display.HTML object>"
      ]
     },
     "metadata": {},
     "output_type": "display_data"
    },
    {
     "name": "stdout",
     "output_type": "stream",
     "text": [
      "Sampling different pairs for all training images.\n"
     ]
    },
    {
     "data": {
      "text/html": [
       "\n",
       "    <div>\n",
       "        <style>\n",
       "            /* Turns off some styling */\n",
       "            progress {\n",
       "                /* gets rid of default border in Firefox and Opera. */\n",
       "                border: none;\n",
       "                /* Needs to be in here for Safari polyfill so background images work as expected. */\n",
       "                background-size: auto;\n",
       "            }\n",
       "            .progress-bar-interrupted, .progress-bar-interrupted::-webkit-progress-bar {\n",
       "                background: #F44336;\n",
       "            }\n",
       "        </style>\n",
       "      <progress value='8273' class='' max='8273', style='width:300px; height:20px; vertical-align: middle;'></progress>\n",
       "      100.00% [8273/8273 04:33<00:00]\n",
       "    </div>\n",
       "    "
      ],
      "text/plain": [
       "<IPython.core.display.HTML object>"
      ]
     },
     "metadata": {},
     "output_type": "display_data"
    },
    {
     "name": "stdout",
     "output_type": "stream",
     "text": [
      "Sampling same pairs for all training images.\n"
     ]
    },
    {
     "data": {
      "text/html": [
       "\n",
       "    <div>\n",
       "        <style>\n",
       "            /* Turns off some styling */\n",
       "            progress {\n",
       "                /* gets rid of default border in Firefox and Opera. */\n",
       "                border: none;\n",
       "                /* Needs to be in here for Safari polyfill so background images work as expected. */\n",
       "                background-size: auto;\n",
       "            }\n",
       "            .progress-bar-interrupted, .progress-bar-interrupted::-webkit-progress-bar {\n",
       "                background: #F44336;\n",
       "            }\n",
       "        </style>\n",
       "      <progress value='5749' class='' max='5749', style='width:300px; height:20px; vertical-align: middle;'></progress>\n",
       "      100.00% [5749/5749 00:00<00:00]\n",
       "    </div>\n",
       "    "
      ],
      "text/plain": [
       "<IPython.core.display.HTML object>"
      ]
     },
     "metadata": {},
     "output_type": "display_data"
    },
    {
     "data": {
      "text/html": [
       "<table border=\"1\" class=\"dataframe\">\n",
       "  <thead>\n",
       "    <tr style=\"text-align: left;\">\n",
       "      <th>epoch</th>\n",
       "      <th>train_loss</th>\n",
       "      <th>valid_loss</th>\n",
       "      <th>hinge_acc</th>\n",
       "      <th>ce_acc</th>\n",
       "      <th>time</th>\n",
       "    </tr>\n",
       "  </thead>\n",
       "  <tbody>\n",
       "    <tr>\n",
       "      <td>0</td>\n",
       "      <td>6.754654</td>\n",
       "      <td>10.503052</td>\n",
       "      <td>0.724000</td>\n",
       "      <td>0.734667</td>\n",
       "      <td>04:37</td>\n",
       "    </tr>\n",
       "  </tbody>\n",
       "</table>"
      ],
      "text/plain": [
       "<IPython.core.display.HTML object>"
      ]
     },
     "metadata": {},
     "output_type": "display_data"
    }
   ],
   "source": [
    "tll = get_training_data()\n",
    "src = LabelLists(imgs.train.x.path, tll, data.valid_ds)\n",
    "data = src.transform(get_transforms(), size=224).databunch(bs=30)\n",
    "learn.data = data\n",
    "learn.fit_one_cycle(1,5e-5)"
   ]
  }
 ],
 "metadata": {
  "accelerator": "GPU",
  "colab": {
   "collapsed_sections": [],
   "name": "Facial Recognition - TF",
   "provenance": [],
   "version": "0.3.2"
  },
  "kernelspec": {
   "display_name": "Python 3",
   "language": "python",
   "name": "python3"
  },
  "language_info": {
   "codemirror_mode": {
    "name": "ipython",
    "version": 3
   },
   "file_extension": ".py",
   "mimetype": "text/x-python",
   "name": "python",
   "nbconvert_exporter": "python",
   "pygments_lexer": "ipython3",
   "version": "3.7.3"
  }
 },
 "nbformat": 4,
 "nbformat_minor": 1
}
